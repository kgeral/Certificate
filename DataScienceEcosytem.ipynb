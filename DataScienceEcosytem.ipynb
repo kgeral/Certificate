{
  "metadata": {
    "language_info": {
      "codemirror_mode": {
        "name": "python",
        "version": 3
      },
      "file_extension": ".py",
      "mimetype": "text/x-python",
      "name": "python",
      "nbconvert_exporter": "python",
      "pygments_lexer": "ipython3",
      "version": "3.8"
    },
    "kernelspec": {
      "name": "python",
      "display_name": "Pyolite",
      "language": "python"
    }
  },
  "nbformat_minor": 4,
  "nbformat": 4,
  "cells": [
    {
      "cell_type": "markdown",
      "source": " # Data Science Tools and Ecosystem",
      "metadata": {}
    },
    {
      "cell_type": "markdown",
      "source": "## Introduction\n\nIn this notebook, Data Science Tools and Ecosystem are summarized.",
      "metadata": {}
    },
    {
      "cell_type": "markdown",
      "source": "Some of the popular languages that Data Scientists use are:\n\n\n1. R  \n1. Python \n1. SQL \n1. Java  \n1. Scala \n1. C++  \n1. JavaScript  \n1. Julia ",
      "metadata": {}
    },
    {
      "cell_type": "markdown",
      "source": "Some of the commonly used libraries used by Data Scientists include:\n \n1. Pandas\n1. NumPy\n1. SciPy\n1. Matplotlib \n1. dplyr\n1. ggplot2\n1. tidyr ",
      "metadata": {}
    },
    {
      "cell_type": "markdown",
      "source": "| Languages | Tools | \n| --- | --- | \n| Python |Pandas, NumPy, SciPy, Matplotlib | \n|R|dplyr, ggplot2, tidyr, shiny, lubridate|\n|Python| Pandas, NumPy, SciPy, Matplotlib|\n|R| dplyr, ggplot2, tidyr, shiny, lubridate|\n|SQL| PostgreSQL, MySQL, Apache, Spark|\n|Julia| JuilasDB, Flux.jl, DataFrames.jl, Query.jl|\n|Java| Weka, Java-ML, Apache MLlib, Deeplearning4|\n|Scala| Shark MLlib, GraphX, Spark Streaming|\n|JavaScript| TensorFlow.js, R-js|  ",
      "metadata": {}
    },
    {
      "cell_type": "markdown",
      "source": " ## Introducing arithmetic expression examples\n \n \n Below are a few examples of evaluating arithmetic expressions in Python.\n",
      "metadata": {}
    },
    {
      "cell_type": "code",
      "source": "## This is a simple arithmetic expression to multiply then add integers   (3*4)+5\n(3*4)+5",
      "metadata": {
        "trusted": true
      },
      "execution_count": 23,
      "outputs": [
        {
          "execution_count": 23,
          "output_type": "execute_result",
          "data": {
            "text/plain": "17"
          },
          "metadata": {}
        }
      ]
    },
    {
      "cell_type": "code",
      "source": "##  This will convert 200 minutes to hours by diving by 60\nminutes = 200\n\nprint(minutes, \"minutes represent\", minutes / 60, \"hours\") \n",
      "metadata": {
        "trusted": true
      },
      "execution_count": 24,
      "outputs": [
        {
          "name": "stdout",
          "text": "200 minutes represent 3.3333333333333335 hours\n",
          "output_type": "stream"
        }
      ]
    },
    {
      "cell_type": "markdown",
      "source": " ##  **Objectives**:\n\n - List of popular languages for Data Science\n - Commonly used libraries used by Data Scientists include\n - Below are a few examples of evaluating arithmetic expressions in Python ",
      "metadata": {}
    },
    {
      "cell_type": "markdown",
      "source": "## Author\nKader Geraldo",
      "metadata": {}
    },
    {
      "cell_type": "code",
      "source": "",
      "metadata": {},
      "execution_count": null,
      "outputs": []
    }
  ]
}