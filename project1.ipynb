{
  "metadata": {
    "language_info": {
      "codemirror_mode": {
        "name": "python",
        "version": 3
      },
      "file_extension": ".py",
      "mimetype": "text/x-python",
      "name": "python",
      "nbconvert_exporter": "python",
      "pygments_lexer": "ipython3",
      "version": "3.8"
    },
    "kernelspec": {
      "name": "python",
      "display_name": "Pyolite",
      "language": "python"
    }
  },
  "nbformat_minor": 4,
  "nbformat": 4,
  "cells": [
    {
      "cell_type": "markdown",
      "source": " # **Tools for Data Science**",
      "metadata": {}
    },
    {
      "cell_type": "markdown",
      "source": "## **Introduction**",
      "metadata": {}
    },
    {
      "cell_type": "markdown",
      "source": "**List of data science languages**:\n\nR \\\nPython \\\nSQL \\\nJava \\\nScala \\\nC++ \\\nJavaScript \\\nJulia ",
      "metadata": {}
    },
    {
      "cell_type": "markdown",
      "source": "**List of data science libraries**:\n\nPython:\nPandas\nNumPy\nSciPy\nMatplotlib\n\nR:\ndplyr\nggplot2\ntidyr\nshiny\nlubridate\n\nSQL:\nPostgreSQL\nMySQL\nApache Spark\n   \nJulia:\nJuilasDB\nFlux.jl\nDataFrames.jl\nQuery.jl\n \n \nJava:\nWeka\nJava-ML\nApache MLlib\nDeeplearning4\n\n\nScala:\nShark\nMLlib\nGraphX\nSpark Streaming\n\n\n\nJavaScript:\nTensorFlow.js\nR-js\n",
      "metadata": {}
    },
    {
      "cell_type": "markdown",
      "source": "| Languages | Tools | \n| --- | --- | \n| Python |Pandas, NumPy, SciPy, Matplotlib | \n|R|dplyr, ggplot2, tidyr, shiny, lubridate|\n|Python| Pandas, NumPy, SciPy, Matplotlib|\n|R| dplyr, ggplot2, tidyr, shiny, lubridate|\n|SQL| PostgreSQL, MySQL, Apache, Spark|\n|Julia| JuilasDB, Flux.jl, DataFrames.jl, Query.jl|\n|Java| Weka, Java-ML, Apache MLlib, Deeplearning4|\n|Scala| Shark MLlib, GraphX, Spark Streaming|\n|JavaScript| TensorFlow.js, R-js|  ",
      "metadata": {}
    },
    {
      "cell_type": "markdown",
      "source": " ## **Introducing arithmetic expression examples**",
      "metadata": {}
    },
    {
      "cell_type": "code",
      "source": "## Addition and multiplication operation   5+3*7\n5+3*7 ",
      "metadata": {
        "trusted": true
      },
      "execution_count": 19,
      "outputs": [
        {
          "execution_count": 19,
          "output_type": "execute_result",
          "data": {
            "text/plain": "26"
          },
          "metadata": {}
        }
      ]
    },
    {
      "cell_type": "code",
      "source": "##  convert minutes to hours\nhour = 8 \nprint(hour, \"hours represents\", hour * 60, \"minutes\") \n",
      "metadata": {
        "trusted": true
      },
      "execution_count": 20,
      "outputs": [
        {
          "name": "stdout",
          "text": "8 hours represents 480 minutes\n",
          "output_type": "stream"
        }
      ]
    },
    {
      "cell_type": "markdown",
      "source": " ##  **List Objectives**:\n\nPassionate to learn data science and looking forward \nfinding a good job ",
      "metadata": {}
    },
    {
      "cell_type": "markdown",
      "source": "**Author's name**: Kader Geraldo",
      "metadata": {}
    },
    {
      "cell_type": "code",
      "source": "",
      "metadata": {},
      "execution_count": null,
      "outputs": []
    }
  ]
}